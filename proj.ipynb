{
 "cells": [
  {
   "cell_type": "code",
   "execution_count": 1,
   "metadata": {
    "collapsed": true
   },
   "outputs": [],
   "source": [
    "import numpy as np\n",
    "import mxnet as mx\n",
    "import time\n",
    "import pandas as pd\n",
    "\n",
    "import cv2"
   ]
  },
  {
   "cell_type": "code",
   "execution_count": 2,
   "metadata": {
    "collapsed": true
   },
   "outputs": [],
   "source": [
    "import matplotlib.pyplot as plt\n",
    "%matplotlib inline"
   ]
  },
  {
   "cell_type": "code",
   "execution_count": 3,
   "metadata": {
    "collapsed": true
   },
   "outputs": [],
   "source": [
    "data0 = pd.read_csv('data1/data.csv', names=['name','state'])"
   ]
  },
  {
   "cell_type": "code",
   "execution_count": 4,
   "metadata": {},
   "outputs": [
    {
     "data": {
      "text/html": [
       "<div>\n",
       "<style>\n",
       "    .dataframe thead tr:only-child th {\n",
       "        text-align: right;\n",
       "    }\n",
       "\n",
       "    .dataframe thead th {\n",
       "        text-align: left;\n",
       "    }\n",
       "\n",
       "    .dataframe tbody tr th {\n",
       "        vertical-align: top;\n",
       "    }\n",
       "</style>\n",
       "<table border=\"1\" class=\"dataframe\">\n",
       "  <thead>\n",
       "    <tr style=\"text-align: right;\">\n",
       "      <th></th>\n",
       "      <th>name</th>\n",
       "      <th>state</th>\n",
       "    </tr>\n",
       "  </thead>\n",
       "  <tbody>\n",
       "    <tr>\n",
       "      <th>0</th>\n",
       "      <td>closedleft.jpg</td>\n",
       "      <td>initial</td>\n",
       "    </tr>\n",
       "    <tr>\n",
       "      <th>1</th>\n",
       "      <td>closedmiddle.jpg</td>\n",
       "      <td>initial</td>\n",
       "    </tr>\n",
       "    <tr>\n",
       "      <th>2</th>\n",
       "      <td>closedright.jpg</td>\n",
       "      <td>initial</td>\n",
       "    </tr>\n",
       "    <tr>\n",
       "      <th>3</th>\n",
       "      <td>ctrlleft-1.jpg</td>\n",
       "      <td>number</td>\n",
       "    </tr>\n",
       "    <tr>\n",
       "      <th>4</th>\n",
       "      <td>ctrlleft-2.jpg</td>\n",
       "      <td>lower alphabet</td>\n",
       "    </tr>\n",
       "    <tr>\n",
       "      <th>5</th>\n",
       "      <td>ctrlleft-3.jpg</td>\n",
       "      <td>upper alphabet</td>\n",
       "    </tr>\n",
       "    <tr>\n",
       "      <th>6</th>\n",
       "      <td>ctrlleft-4.jpg</td>\n",
       "      <td>ctrl</td>\n",
       "    </tr>\n",
       "    <tr>\n",
       "      <th>7</th>\n",
       "      <td>ctrlleft-5.jpg</td>\n",
       "      <td>ready</td>\n",
       "    </tr>\n",
       "    <tr>\n",
       "      <th>8</th>\n",
       "      <td>ctrlmiddle-1.jpg</td>\n",
       "      <td>number</td>\n",
       "    </tr>\n",
       "    <tr>\n",
       "      <th>9</th>\n",
       "      <td>ctrlmiddle-2.jpg</td>\n",
       "      <td>lower alphabet</td>\n",
       "    </tr>\n",
       "    <tr>\n",
       "      <th>10</th>\n",
       "      <td>ctrlmiddle-3.jpg</td>\n",
       "      <td>upper alphabet</td>\n",
       "    </tr>\n",
       "    <tr>\n",
       "      <th>11</th>\n",
       "      <td>ctrlmiddle-4.jpg</td>\n",
       "      <td>alt</td>\n",
       "    </tr>\n",
       "    <tr>\n",
       "      <th>12</th>\n",
       "      <td>ctrlmiddle-5.jpg</td>\n",
       "      <td>ready</td>\n",
       "    </tr>\n",
       "    <tr>\n",
       "      <th>13</th>\n",
       "      <td>ctrlright-1.jpg</td>\n",
       "      <td>number</td>\n",
       "    </tr>\n",
       "    <tr>\n",
       "      <th>14</th>\n",
       "      <td>ctrlright-2.jpg</td>\n",
       "      <td>lower alphabet</td>\n",
       "    </tr>\n",
       "    <tr>\n",
       "      <th>15</th>\n",
       "      <td>ctrlright-3.jpg</td>\n",
       "      <td>upper alphabet</td>\n",
       "    </tr>\n",
       "    <tr>\n",
       "      <th>16</th>\n",
       "      <td>ctrlright-4.jpg</td>\n",
       "      <td>special character</td>\n",
       "    </tr>\n",
       "    <tr>\n",
       "      <th>17</th>\n",
       "      <td>ctrlright-5.jpg</td>\n",
       "      <td>ready</td>\n",
       "    </tr>\n",
       "    <tr>\n",
       "      <th>18</th>\n",
       "      <td>left-1.jpg</td>\n",
       "      <td>1</td>\n",
       "    </tr>\n",
       "    <tr>\n",
       "      <th>19</th>\n",
       "      <td>left-2.jpg</td>\n",
       "      <td>2</td>\n",
       "    </tr>\n",
       "    <tr>\n",
       "      <th>20</th>\n",
       "      <td>left-3.jpg</td>\n",
       "      <td>3</td>\n",
       "    </tr>\n",
       "    <tr>\n",
       "      <th>21</th>\n",
       "      <td>left-4.jpg</td>\n",
       "      <td>4</td>\n",
       "    </tr>\n",
       "    <tr>\n",
       "      <th>22</th>\n",
       "      <td>left-5.jpg</td>\n",
       "      <td>5</td>\n",
       "    </tr>\n",
       "    <tr>\n",
       "      <th>23</th>\n",
       "      <td>middle-1.jpg</td>\n",
       "      <td>6</td>\n",
       "    </tr>\n",
       "    <tr>\n",
       "      <th>24</th>\n",
       "      <td>middle-2.jpg</td>\n",
       "      <td>7</td>\n",
       "    </tr>\n",
       "    <tr>\n",
       "      <th>25</th>\n",
       "      <td>middle-3.jpg</td>\n",
       "      <td>8</td>\n",
       "    </tr>\n",
       "    <tr>\n",
       "      <th>26</th>\n",
       "      <td>middle-4.jpg</td>\n",
       "      <td>9</td>\n",
       "    </tr>\n",
       "    <tr>\n",
       "      <th>27</th>\n",
       "      <td>middle-5.jpg</td>\n",
       "      <td>0</td>\n",
       "    </tr>\n",
       "    <tr>\n",
       "      <th>28</th>\n",
       "      <td>right-1.jpg</td>\n",
       "      <td>space</td>\n",
       "    </tr>\n",
       "    <tr>\n",
       "      <th>29</th>\n",
       "      <td>right-2.jpg</td>\n",
       "      <td>space</td>\n",
       "    </tr>\n",
       "    <tr>\n",
       "      <th>30</th>\n",
       "      <td>right-3.jpg</td>\n",
       "      <td>space</td>\n",
       "    </tr>\n",
       "    <tr>\n",
       "      <th>31</th>\n",
       "      <td>right-4.jpg</td>\n",
       "      <td>space</td>\n",
       "    </tr>\n",
       "    <tr>\n",
       "      <th>32</th>\n",
       "      <td>right-5.jpg</td>\n",
       "      <td>space</td>\n",
       "    </tr>\n",
       "  </tbody>\n",
       "</table>\n",
       "</div>"
      ],
      "text/plain": [
       "                name               state\n",
       "0     closedleft.jpg             initial\n",
       "1   closedmiddle.jpg             initial\n",
       "2    closedright.jpg             initial\n",
       "3     ctrlleft-1.jpg              number\n",
       "4     ctrlleft-2.jpg      lower alphabet\n",
       "5     ctrlleft-3.jpg      upper alphabet\n",
       "6     ctrlleft-4.jpg                ctrl\n",
       "7     ctrlleft-5.jpg               ready\n",
       "8   ctrlmiddle-1.jpg              number\n",
       "9   ctrlmiddle-2.jpg      lower alphabet\n",
       "10  ctrlmiddle-3.jpg      upper alphabet\n",
       "11  ctrlmiddle-4.jpg                 alt\n",
       "12  ctrlmiddle-5.jpg               ready\n",
       "13   ctrlright-1.jpg              number\n",
       "14   ctrlright-2.jpg      lower alphabet\n",
       "15   ctrlright-3.jpg      upper alphabet\n",
       "16   ctrlright-4.jpg   special character\n",
       "17   ctrlright-5.jpg               ready\n",
       "18        left-1.jpg                   1\n",
       "19        left-2.jpg                   2\n",
       "20        left-3.jpg                   3\n",
       "21        left-4.jpg                   4\n",
       "22        left-5.jpg                   5\n",
       "23      middle-1.jpg                   6\n",
       "24      middle-2.jpg                   7\n",
       "25      middle-3.jpg                   8\n",
       "26      middle-4.jpg                   9\n",
       "27      middle-5.jpg                   0\n",
       "28       right-1.jpg               space\n",
       "29       right-2.jpg               space\n",
       "30       right-3.jpg               space\n",
       "31       right-4.jpg               space\n",
       "32       right-5.jpg               space"
      ]
     },
     "execution_count": 4,
     "metadata": {},
     "output_type": "execute_result"
    }
   ],
   "source": [
    "data0"
   ]
  },
  {
   "cell_type": "code",
   "execution_count": 5,
   "metadata": {},
   "outputs": [
    {
     "data": {
      "text/plain": [
       "array([' initial', ' number', ' lower alphabet', ' upper alphabet',\n",
       "       ' ctrl', ' ready', ' alt', ' special character', '1', '2', '3', '4',\n",
       "       '5', '6', '7', '8', '9', '0', ' space'], dtype=object)"
      ]
     },
     "execution_count": 5,
     "metadata": {},
     "output_type": "execute_result"
    }
   ],
   "source": [
    "data0['state'].unique()"
   ]
  },
  {
   "cell_type": "code",
   "execution_count": 6,
   "metadata": {},
   "outputs": [
    {
     "data": {
      "text/plain": [
       "{' alt': 6,\n",
       " ' ctrl': 4,\n",
       " ' initial': 0,\n",
       " ' lower alphabet': 2,\n",
       " ' number': 1,\n",
       " ' ready': 5,\n",
       " ' space': 18,\n",
       " ' special character': 7,\n",
       " ' upper alphabet': 3,\n",
       " '0': 17,\n",
       " '1': 8,\n",
       " '2': 9,\n",
       " '3': 10,\n",
       " '4': 11,\n",
       " '5': 12,\n",
       " '6': 13,\n",
       " '7': 14,\n",
       " '8': 15,\n",
       " '9': 16}"
      ]
     },
     "execution_count": 6,
     "metadata": {},
     "output_type": "execute_result"
    }
   ],
   "source": [
    "num_class = len(data0['state'].unique())\n",
    "ges_to_num = dict({(g,i) for i, g in enumerate(data0['state'].unique())})\n",
    "num_to_ges = dict({(i,g) for i, g in enumerate(data0['state'].unique())})\n",
    "ges_to_num"
   ]
  },
  {
   "cell_type": "code",
   "execution_count": 7,
   "metadata": {},
   "outputs": [],
   "source": [
    "data0 = data0.replace({'state':ges_to_num})"
   ]
  },
  {
   "cell_type": "code",
   "execution_count": 8,
   "metadata": {},
   "outputs": [
    {
     "data": {
      "text/plain": [
       "33"
      ]
     },
     "execution_count": 8,
     "metadata": {},
     "output_type": "execute_result"
    }
   ],
   "source": [
    "data0.shape[0]"
   ]
  },
  {
   "cell_type": "code",
   "execution_count": 9,
   "metadata": {},
   "outputs": [
    {
     "data": {
      "text/plain": [
       "((33, 1, 200, 200), (33,))"
      ]
     },
     "execution_count": 9,
     "metadata": {},
     "output_type": "execute_result"
    }
   ],
   "source": [
    "labels = np.empty((data0.shape[0]))\n",
    "\n",
    "res_width, res_height = 200, 200\n",
    "imgs = np.empty(shape=(data0.shape[0],1,res_width,res_height))\n",
    "imgs.shape, labels.shape"
   ]
  },
  {
   "cell_type": "code",
   "execution_count": 10,
   "metadata": {},
   "outputs": [],
   "source": [
    "prefix = 'data1/pic/'\n",
    "for i, (im_name, state) in enumerate(data0.values):\n",
    "    im_path = prefix + im_name\n",
    "    \n",
    "    img = cv2.imread(im_path, 0)\n",
    "    res = cv2.resize(img,(200, 200), interpolation = cv2.INTER_CUBIC)\n",
    "    imgs[i][0] = res\n",
    "    labels[i] = state"
   ]
  },
  {
   "cell_type": "code",
   "execution_count": 14,
   "metadata": {},
   "outputs": [
    {
     "data": {
      "text/plain": [
       "((33, 1, 200, 200), (33,))"
      ]
     },
     "execution_count": 14,
     "metadata": {},
     "output_type": "execute_result"
    }
   ],
   "source": [
    "train_data, train_label = imgs, labels\n",
    "# test_data, test_label = imgs[23:], labels[2:]\n",
    "train_data.shape, train_label.shape#, test_data.shape, test_label.shape"
   ]
  },
  {
   "cell_type": "code",
   "execution_count": 16,
   "metadata": {},
   "outputs": [],
   "source": [
    "batch_size = 5\n",
    "train_iter = mx.io.NDArrayIter(train_data, train_label, batch_size, shuffle=True)\n",
    "# eval_iter = mx.io.NDArrayIter(test_data, test_label, batch_size)"
   ]
  },
  {
   "cell_type": "code",
   "execution_count": 17,
   "metadata": {
    "collapsed": true
   },
   "outputs": [],
   "source": [
    "import logging\n",
    "logging.getLogger().setLevel(logging.DEBUG)  # logging to stdout"
   ]
  },
  {
   "cell_type": "code",
   "execution_count": 23,
   "metadata": {
    "scrolled": false
   },
   "outputs": [
    {
     "data": {
      "image/svg+xml": [
       "<?xml version=\"1.0\" encoding=\"UTF-8\" standalone=\"no\"?>\n",
       "<!DOCTYPE svg PUBLIC \"-//W3C//DTD SVG 1.1//EN\"\n",
       " \"http://www.w3.org/Graphics/SVG/1.1/DTD/svg11.dtd\">\n",
       "<!-- Generated by graphviz version 2.38.0 (20140413.2041)\n",
       " -->\n",
       "<!-- Title: plot Pages: 1 -->\n",
       "<svg width=\"214pt\" height=\"1288pt\"\n",
       " viewBox=\"0.00 0.00 214.00 1288.00\" xmlns=\"http://www.w3.org/2000/svg\" xmlns:xlink=\"http://www.w3.org/1999/xlink\">\n",
       "<g id=\"graph0\" class=\"graph\" transform=\"scale(1 1) rotate(0) translate(4 1284)\">\n",
       "<title>plot</title>\n",
       "<polygon fill=\"white\" stroke=\"none\" points=\"-4,4 -4,-1284 210,-1284 210,4 -4,4\"/>\n",
       "<!-- data -->\n",
       "<g id=\"node1\" class=\"node\"><title>data</title>\n",
       "<ellipse fill=\"#8dd3c7\" stroke=\"black\" cx=\"47\" cy=\"-29\" rx=\"47\" ry=\"29\"/>\n",
       "<text text-anchor=\"middle\" x=\"47\" y=\"-25.3\" font-family=\"Times,serif\" font-size=\"14.00\">data</text>\n",
       "</g>\n",
       "<!-- conv1 -->\n",
       "<g id=\"node2\" class=\"node\"><title>conv1</title>\n",
       "<polygon fill=\"#fb8072\" stroke=\"black\" points=\"94,-152 -7.10543e-15,-152 -7.10543e-15,-94 94,-94 94,-152\"/>\n",
       "<text text-anchor=\"middle\" x=\"47\" y=\"-126.8\" font-family=\"Times,serif\" font-size=\"14.00\">Convolution</text>\n",
       "<text text-anchor=\"middle\" x=\"47\" y=\"-111.8\" font-family=\"Times,serif\" font-size=\"14.00\">5x5/1, 20</text>\n",
       "</g>\n",
       "<!-- conv1&#45;&gt;data -->\n",
       "<g id=\"edge1\" class=\"edge\"><title>conv1&#45;&gt;data</title>\n",
       "<path fill=\"none\" stroke=\"black\" d=\"M47,-83.7443C47,-75.2043 47,-66.2977 47,-58.2479\"/>\n",
       "<polygon fill=\"black\" stroke=\"black\" points=\"47,-93.8971 42.5001,-83.897 47,-88.8971 47.0001,-83.8971 47.0001,-83.8971 47.0001,-83.8971 47,-88.8971 51.5001,-83.8971 47,-93.8971 47,-93.8971\"/>\n",
       "</g>\n",
       "<!-- batchnorm4 -->\n",
       "<g id=\"node3\" class=\"node\"><title>batchnorm4</title>\n",
       "<polygon fill=\"#bebada\" stroke=\"black\" points=\"94,-246 -7.10543e-15,-246 -7.10543e-15,-188 94,-188 94,-246\"/>\n",
       "<text text-anchor=\"middle\" x=\"47\" y=\"-213.3\" font-family=\"Times,serif\" font-size=\"14.00\">batchnorm4</text>\n",
       "</g>\n",
       "<!-- batchnorm4&#45;&gt;conv1 -->\n",
       "<g id=\"edge2\" class=\"edge\"><title>batchnorm4&#45;&gt;conv1</title>\n",
       "<path fill=\"none\" stroke=\"black\" d=\"M47,-177.744C47,-169.204 47,-160.298 47,-152.248\"/>\n",
       "<polygon fill=\"black\" stroke=\"black\" points=\"47,-187.897 42.5001,-177.897 47,-182.897 47.0001,-177.897 47.0001,-177.897 47.0001,-177.897 47,-182.897 51.5001,-177.897 47,-187.897 47,-187.897\"/>\n",
       "</g>\n",
       "<!-- activation6 -->\n",
       "<g id=\"node4\" class=\"node\"><title>activation6</title>\n",
       "<polygon fill=\"#ffffb3\" stroke=\"black\" points=\"94,-340 -7.10543e-15,-340 -7.10543e-15,-282 94,-282 94,-340\"/>\n",
       "<text text-anchor=\"middle\" x=\"47\" y=\"-314.8\" font-family=\"Times,serif\" font-size=\"14.00\">Activation</text>\n",
       "<text text-anchor=\"middle\" x=\"47\" y=\"-299.8\" font-family=\"Times,serif\" font-size=\"14.00\">tanh</text>\n",
       "</g>\n",
       "<!-- activation6&#45;&gt;batchnorm4 -->\n",
       "<g id=\"edge3\" class=\"edge\"><title>activation6&#45;&gt;batchnorm4</title>\n",
       "<path fill=\"none\" stroke=\"black\" d=\"M47,-271.744C47,-263.204 47,-254.298 47,-246.248\"/>\n",
       "<polygon fill=\"black\" stroke=\"black\" points=\"47,-281.897 42.5001,-271.897 47,-276.897 47.0001,-271.897 47.0001,-271.897 47.0001,-271.897 47,-276.897 51.5001,-271.897 47,-281.897 47,-281.897\"/>\n",
       "</g>\n",
       "<!-- pooling4 -->\n",
       "<g id=\"node5\" class=\"node\"><title>pooling4</title>\n",
       "<polygon fill=\"#80b1d3\" stroke=\"black\" points=\"94,-434 -7.10543e-15,-434 -7.10543e-15,-376 94,-376 94,-434\"/>\n",
       "<text text-anchor=\"middle\" x=\"47\" y=\"-408.8\" font-family=\"Times,serif\" font-size=\"14.00\">Pooling</text>\n",
       "<text text-anchor=\"middle\" x=\"47\" y=\"-393.8\" font-family=\"Times,serif\" font-size=\"14.00\">max, 2x2/2x2</text>\n",
       "</g>\n",
       "<!-- pooling4&#45;&gt;activation6 -->\n",
       "<g id=\"edge4\" class=\"edge\"><title>pooling4&#45;&gt;activation6</title>\n",
       "<path fill=\"none\" stroke=\"black\" d=\"M47,-365.744C47,-357.204 47,-348.298 47,-340.248\"/>\n",
       "<polygon fill=\"black\" stroke=\"black\" points=\"47,-375.897 42.5001,-365.897 47,-370.897 47.0001,-365.897 47.0001,-365.897 47.0001,-365.897 47,-370.897 51.5001,-365.897 47,-375.897 47,-375.897\"/>\n",
       "</g>\n",
       "<!-- conv2 -->\n",
       "<g id=\"node6\" class=\"node\"><title>conv2</title>\n",
       "<polygon fill=\"#fb8072\" stroke=\"black\" points=\"94,-528 -7.10543e-15,-528 -7.10543e-15,-470 94,-470 94,-528\"/>\n",
       "<text text-anchor=\"middle\" x=\"47\" y=\"-502.8\" font-family=\"Times,serif\" font-size=\"14.00\">Convolution</text>\n",
       "<text text-anchor=\"middle\" x=\"47\" y=\"-487.8\" font-family=\"Times,serif\" font-size=\"14.00\">5x5/1, 50</text>\n",
       "</g>\n",
       "<!-- conv2&#45;&gt;pooling4 -->\n",
       "<g id=\"edge5\" class=\"edge\"><title>conv2&#45;&gt;pooling4</title>\n",
       "<path fill=\"none\" stroke=\"black\" d=\"M47,-459.744C47,-451.204 47,-442.298 47,-434.248\"/>\n",
       "<polygon fill=\"black\" stroke=\"black\" points=\"47,-469.897 42.5001,-459.897 47,-464.897 47.0001,-459.897 47.0001,-459.897 47.0001,-459.897 47,-464.897 51.5001,-459.897 47,-469.897 47,-469.897\"/>\n",
       "</g>\n",
       "<!-- batchnorm5 -->\n",
       "<g id=\"node7\" class=\"node\"><title>batchnorm5</title>\n",
       "<polygon fill=\"#bebada\" stroke=\"black\" points=\"94,-622 -7.10543e-15,-622 -7.10543e-15,-564 94,-564 94,-622\"/>\n",
       "<text text-anchor=\"middle\" x=\"47\" y=\"-589.3\" font-family=\"Times,serif\" font-size=\"14.00\">batchnorm5</text>\n",
       "</g>\n",
       "<!-- batchnorm5&#45;&gt;conv2 -->\n",
       "<g id=\"edge6\" class=\"edge\"><title>batchnorm5&#45;&gt;conv2</title>\n",
       "<path fill=\"none\" stroke=\"black\" d=\"M47,-553.744C47,-545.204 47,-536.298 47,-528.248\"/>\n",
       "<polygon fill=\"black\" stroke=\"black\" points=\"47,-563.897 42.5001,-553.897 47,-558.897 47.0001,-553.897 47.0001,-553.897 47.0001,-553.897 47,-558.897 51.5001,-553.897 47,-563.897 47,-563.897\"/>\n",
       "</g>\n",
       "<!-- activation7 -->\n",
       "<g id=\"node8\" class=\"node\"><title>activation7</title>\n",
       "<polygon fill=\"#ffffb3\" stroke=\"black\" points=\"94,-716 -7.10543e-15,-716 -7.10543e-15,-658 94,-658 94,-716\"/>\n",
       "<text text-anchor=\"middle\" x=\"47\" y=\"-690.8\" font-family=\"Times,serif\" font-size=\"14.00\">Activation</text>\n",
       "<text text-anchor=\"middle\" x=\"47\" y=\"-675.8\" font-family=\"Times,serif\" font-size=\"14.00\">tanh</text>\n",
       "</g>\n",
       "<!-- activation7&#45;&gt;batchnorm5 -->\n",
       "<g id=\"edge7\" class=\"edge\"><title>activation7&#45;&gt;batchnorm5</title>\n",
       "<path fill=\"none\" stroke=\"black\" d=\"M47,-647.744C47,-639.204 47,-630.298 47,-622.248\"/>\n",
       "<polygon fill=\"black\" stroke=\"black\" points=\"47,-657.897 42.5001,-647.897 47,-652.897 47.0001,-647.897 47.0001,-647.897 47.0001,-647.897 47,-652.897 51.5001,-647.897 47,-657.897 47,-657.897\"/>\n",
       "</g>\n",
       "<!-- pooling5 -->\n",
       "<g id=\"node9\" class=\"node\"><title>pooling5</title>\n",
       "<polygon fill=\"#80b1d3\" stroke=\"black\" points=\"94,-810 -7.10543e-15,-810 -7.10543e-15,-752 94,-752 94,-810\"/>\n",
       "<text text-anchor=\"middle\" x=\"47\" y=\"-784.8\" font-family=\"Times,serif\" font-size=\"14.00\">Pooling</text>\n",
       "<text text-anchor=\"middle\" x=\"47\" y=\"-769.8\" font-family=\"Times,serif\" font-size=\"14.00\">max, 2x2/2x2</text>\n",
       "</g>\n",
       "<!-- pooling5&#45;&gt;activation7 -->\n",
       "<g id=\"edge8\" class=\"edge\"><title>pooling5&#45;&gt;activation7</title>\n",
       "<path fill=\"none\" stroke=\"black\" d=\"M47,-741.744C47,-733.204 47,-724.298 47,-716.248\"/>\n",
       "<polygon fill=\"black\" stroke=\"black\" points=\"47,-751.897 42.5001,-741.897 47,-746.897 47.0001,-741.897 47.0001,-741.897 47.0001,-741.897 47,-746.897 51.5001,-741.897 47,-751.897 47,-751.897\"/>\n",
       "</g>\n",
       "<!-- flatten2 -->\n",
       "<g id=\"node10\" class=\"node\"><title>flatten2</title>\n",
       "<polygon fill=\"#fdb462\" stroke=\"black\" points=\"94,-904 -7.10543e-15,-904 -7.10543e-15,-846 94,-846 94,-904\"/>\n",
       "<text text-anchor=\"middle\" x=\"47\" y=\"-871.3\" font-family=\"Times,serif\" font-size=\"14.00\">flatten2</text>\n",
       "</g>\n",
       "<!-- flatten2&#45;&gt;pooling5 -->\n",
       "<g id=\"edge9\" class=\"edge\"><title>flatten2&#45;&gt;pooling5</title>\n",
       "<path fill=\"none\" stroke=\"black\" d=\"M47,-835.744C47,-827.204 47,-818.298 47,-810.248\"/>\n",
       "<polygon fill=\"black\" stroke=\"black\" points=\"47,-845.897 42.5001,-835.897 47,-840.897 47.0001,-835.897 47.0001,-835.897 47.0001,-835.897 47,-840.897 51.5001,-835.897 47,-845.897 47,-845.897\"/>\n",
       "</g>\n",
       "<!-- fullyconnected4 -->\n",
       "<g id=\"node11\" class=\"node\"><title>fullyconnected4</title>\n",
       "<polygon fill=\"#fb8072\" stroke=\"black\" points=\"94,-998 -7.10543e-15,-998 -7.10543e-15,-940 94,-940 94,-998\"/>\n",
       "<text text-anchor=\"middle\" x=\"47\" y=\"-972.8\" font-family=\"Times,serif\" font-size=\"14.00\">FullyConnected</text>\n",
       "<text text-anchor=\"middle\" x=\"47\" y=\"-957.8\" font-family=\"Times,serif\" font-size=\"14.00\">500</text>\n",
       "</g>\n",
       "<!-- fullyconnected4&#45;&gt;flatten2 -->\n",
       "<g id=\"edge10\" class=\"edge\"><title>fullyconnected4&#45;&gt;flatten2</title>\n",
       "<path fill=\"none\" stroke=\"black\" d=\"M47,-929.744C47,-921.204 47,-912.298 47,-904.248\"/>\n",
       "<polygon fill=\"black\" stroke=\"black\" points=\"47,-939.897 42.5001,-929.897 47,-934.897 47.0001,-929.897 47.0001,-929.897 47.0001,-929.897 47,-934.897 51.5001,-929.897 47,-939.897 47,-939.897\"/>\n",
       "</g>\n",
       "<!-- activation8 -->\n",
       "<g id=\"node12\" class=\"node\"><title>activation8</title>\n",
       "<polygon fill=\"#ffffb3\" stroke=\"black\" points=\"94,-1092 -7.10543e-15,-1092 -7.10543e-15,-1034 94,-1034 94,-1092\"/>\n",
       "<text text-anchor=\"middle\" x=\"47\" y=\"-1066.8\" font-family=\"Times,serif\" font-size=\"14.00\">Activation</text>\n",
       "<text text-anchor=\"middle\" x=\"47\" y=\"-1051.8\" font-family=\"Times,serif\" font-size=\"14.00\">tanh</text>\n",
       "</g>\n",
       "<!-- activation8&#45;&gt;fullyconnected4 -->\n",
       "<g id=\"edge11\" class=\"edge\"><title>activation8&#45;&gt;fullyconnected4</title>\n",
       "<path fill=\"none\" stroke=\"black\" d=\"M47,-1023.74C47,-1015.2 47,-1006.3 47,-998.248\"/>\n",
       "<polygon fill=\"black\" stroke=\"black\" points=\"47,-1033.9 42.5001,-1023.9 47,-1028.9 47.0001,-1023.9 47.0001,-1023.9 47.0001,-1023.9 47,-1028.9 51.5001,-1023.9 47,-1033.9 47,-1033.9\"/>\n",
       "</g>\n",
       "<!-- fullyconnected5 -->\n",
       "<g id=\"node13\" class=\"node\"><title>fullyconnected5</title>\n",
       "<polygon fill=\"#fb8072\" stroke=\"black\" points=\"94,-1186 -7.10543e-15,-1186 -7.10543e-15,-1128 94,-1128 94,-1186\"/>\n",
       "<text text-anchor=\"middle\" x=\"47\" y=\"-1160.8\" font-family=\"Times,serif\" font-size=\"14.00\">FullyConnected</text>\n",
       "<text text-anchor=\"middle\" x=\"47\" y=\"-1145.8\" font-family=\"Times,serif\" font-size=\"14.00\">19</text>\n",
       "</g>\n",
       "<!-- fullyconnected5&#45;&gt;activation8 -->\n",
       "<g id=\"edge12\" class=\"edge\"><title>fullyconnected5&#45;&gt;activation8</title>\n",
       "<path fill=\"none\" stroke=\"black\" d=\"M47,-1117.74C47,-1109.2 47,-1100.3 47,-1092.25\"/>\n",
       "<polygon fill=\"black\" stroke=\"black\" points=\"47,-1127.9 42.5001,-1117.9 47,-1122.9 47.0001,-1117.9 47.0001,-1117.9 47.0001,-1117.9 47,-1122.9 51.5001,-1117.9 47,-1127.9 47,-1127.9\"/>\n",
       "</g>\n",
       "<!-- softmax_label -->\n",
       "<g id=\"node14\" class=\"node\"><title>softmax_label</title>\n",
       "<ellipse fill=\"#8dd3c7\" stroke=\"black\" cx=\"159\" cy=\"-1157\" rx=\"47\" ry=\"29\"/>\n",
       "<text text-anchor=\"middle\" x=\"159\" y=\"-1153.3\" font-family=\"Times,serif\" font-size=\"14.00\">softmax_label</text>\n",
       "</g>\n",
       "<!-- softmax -->\n",
       "<g id=\"node15\" class=\"node\"><title>softmax</title>\n",
       "<polygon fill=\"#fccde5\" stroke=\"black\" points=\"150,-1280 56,-1280 56,-1222 150,-1222 150,-1280\"/>\n",
       "<text text-anchor=\"middle\" x=\"103\" y=\"-1247.3\" font-family=\"Times,serif\" font-size=\"14.00\">softmax</text>\n",
       "</g>\n",
       "<!-- softmax&#45;&gt;fullyconnected5 -->\n",
       "<g id=\"edge13\" class=\"edge\"><title>softmax&#45;&gt;fullyconnected5</title>\n",
       "<path fill=\"none\" stroke=\"black\" d=\"M80.5686,-1213.15C75.113,-1204.19 69.3635,-1194.74 64.1943,-1186.25\"/>\n",
       "<polygon fill=\"black\" stroke=\"black\" points=\"85.8939,-1221.9 76.8505,-1215.69 83.2941,-1217.63 80.6944,-1213.36 80.6944,-1213.36 80.6944,-1213.36 83.2941,-1217.63 84.5383,-1211.02 85.8939,-1221.9 85.8939,-1221.9\"/>\n",
       "</g>\n",
       "<!-- softmax&#45;&gt;softmax_label -->\n",
       "<g id=\"edge14\" class=\"edge\"><title>softmax&#45;&gt;softmax_label</title>\n",
       "<path fill=\"none\" stroke=\"black\" d=\"M125.377,-1213.24C131.257,-1203.58 137.481,-1193.35 142.955,-1184.36\"/>\n",
       "<polygon fill=\"black\" stroke=\"black\" points=\"120.106,-1221.9 121.462,-1211.02 122.706,-1217.63 125.306,-1213.36 125.306,-1213.36 125.306,-1213.36 122.706,-1217.63 129.15,-1215.69 120.106,-1221.9 120.106,-1221.9\"/>\n",
       "</g>\n",
       "</g>\n",
       "</svg>\n"
      ],
      "text/plain": [
       "<graphviz.dot.Digraph at 0x7fbefc5ebe50>"
      ]
     },
     "execution_count": 23,
     "metadata": {},
     "output_type": "execute_result"
    }
   ],
   "source": [
    "data = mx.sym.var('data')\n",
    "\n",
    "conv1 = mx.sym.Convolution(data=data, kernel=(5,5), num_filter=20, name='conv1')\n",
    "bn1 = mx.sym.BatchNorm(conv1, fix_gamma=True)\n",
    "tanh1 = mx.sym.Activation(data=bn1, act_type='tanh')\n",
    "pool1 = mx.sym.Pooling(data=tanh1, pool_type='max', kernel=(2,2), stride=(2,2))\n",
    "\n",
    "conv2 = mx.sym.Convolution(data=pool1, kernel=(5,5), num_filter=50, name='conv2')\n",
    "bn2 = mx.sym.BatchNorm(conv2, fix_gamma=True)\n",
    "tanh2 = mx.sym.Activation(data=bn2, act_type='tanh')\n",
    "pool2 = mx.sym.Pooling(data=tanh2, pool_type='max', kernel=(2,2), stride=(2,2))\n",
    "\n",
    "flat = mx.sym.flatten(data=pool2)\n",
    "fc1 = mx.sym.FullyConnected(data=flat, num_hidden=500)\n",
    "tanh3 = mx.sym.Activation(data=fc1, act_type='tanh')\n",
    "\n",
    "# drop = mx.symbol.Dropout(tanh3)\n",
    "fc2 = mx.sym.FullyConnected(data=tanh3, num_hidden=num_class)\n",
    "\n",
    "convnet = mx.sym.SoftmaxOutput(data=fc2, name='softmax')\n",
    "\n",
    "mx.viz.plot_network(convnet)"
   ]
  },
  {
   "cell_type": "code",
   "execution_count": 33,
   "metadata": {
    "collapsed": true
   },
   "outputs": [],
   "source": [
    "model = mx.mod.Module(symbol=convnet, context=mx.gpu())"
   ]
  },
  {
   "cell_type": "code",
   "execution_count": 34,
   "metadata": {},
   "outputs": [],
   "source": [
    "model.bind(data_shapes=train_iter.provide_data, label_shapes=train_iter.provide_label)\n",
    "model.init_params(initializer=mx.init.Uniform(scale=.1))\n",
    "model.init_optimizer(optimizer='sgd', optimizer_params={'learning_rate':0.1})\n",
    "\n",
    "metric = mx.metric.Accuracy()"
   ]
  },
  {
   "cell_type": "code",
   "execution_count": 35,
   "metadata": {
    "scrolled": true
   },
   "outputs": [
    {
     "name": "stdout",
     "output_type": "stream",
     "text": [
      "Epoch 0, Training ('accuracy', 0.05714285714285714), Time 0.31\n",
      "Epoch 1, Training ('accuracy', 0.02857142857142857), Time 0.28\n",
      "Epoch 2, Training ('accuracy', 0.08571428571428572), Time 0.26\n",
      "Epoch 3, Training ('accuracy', 0.08571428571428572), Time 0.25\n",
      "Epoch 4, Training ('accuracy', 0.14285714285714285), Time 0.25\n",
      "Epoch 5, Training ('accuracy', 0.2), Time 0.25\n",
      "Epoch 6, Training ('accuracy', 0.08571428571428572), Time 0.25\n",
      "Epoch 7, Training ('accuracy', 0.08571428571428572), Time 0.25\n",
      "Epoch 8, Training ('accuracy', 0.17142857142857143), Time 0.25\n",
      "Epoch 9, Training ('accuracy', 0.2571428571428571), Time 0.25\n",
      "Epoch 10, Training ('accuracy', 0.22857142857142856), Time 0.25\n",
      "Epoch 11, Training ('accuracy', 0.11428571428571428), Time 0.25\n",
      "Epoch 12, Training ('accuracy', 0.2571428571428571), Time 0.25\n",
      "Epoch 13, Training ('accuracy', 0.2), Time 0.25\n",
      "Epoch 14, Training ('accuracy', 0.17142857142857143), Time 0.25\n",
      "Epoch 15, Training ('accuracy', 0.11428571428571428), Time 0.25\n",
      "Epoch 16, Training ('accuracy', 0.08571428571428572), Time 0.25\n",
      "Epoch 17, Training ('accuracy', 0.17142857142857143), Time 0.25\n",
      "Epoch 18, Training ('accuracy', 0.11428571428571428), Time 0.25\n",
      "Epoch 19, Training ('accuracy', 0.2), Time 0.25\n",
      "Epoch 20, Training ('accuracy', 0.17142857142857143), Time 0.25\n",
      "Epoch 21, Training ('accuracy', 0.11428571428571428), Time 0.25\n",
      "Epoch 22, Training ('accuracy', 0.2), Time 0.25\n",
      "Epoch 23, Training ('accuracy', 0.22857142857142856), Time 0.25\n",
      "Epoch 24, Training ('accuracy', 0.17142857142857143), Time 0.25\n",
      "Epoch 25, Training ('accuracy', 0.11428571428571428), Time 0.25\n",
      "Epoch 26, Training ('accuracy', 0.17142857142857143), Time 0.25\n",
      "Epoch 27, Training ('accuracy', 0.17142857142857143), Time 0.25\n",
      "Epoch 28, Training ('accuracy', 0.14285714285714285), Time 0.25\n",
      "Epoch 29, Training ('accuracy', 0.14285714285714285), Time 0.25\n",
      "Epoch 30, Training ('accuracy', 0.22857142857142856), Time 0.25\n",
      "Epoch 31, Training ('accuracy', 0.17142857142857143), Time 0.25\n",
      "Epoch 32, Training ('accuracy', 0.2571428571428571), Time 0.25\n",
      "Epoch 33, Training ('accuracy', 0.2857142857142857), Time 0.25\n",
      "Epoch 34, Training ('accuracy', 0.34285714285714286), Time 0.25\n",
      "Epoch 35, Training ('accuracy', 0.2571428571428571), Time 0.25\n",
      "Epoch 36, Training ('accuracy', 0.2857142857142857), Time 0.25\n",
      "Epoch 37, Training ('accuracy', 0.5142857142857142), Time 0.25\n",
      "Epoch 38, Training ('accuracy', 0.37142857142857144), Time 0.25\n",
      "Epoch 39, Training ('accuracy', 0.4), Time 0.25\n",
      "Epoch 40, Training ('accuracy', 0.4857142857142857), Time 0.25\n",
      "Epoch 41, Training ('accuracy', 0.5714285714285714), Time 0.25\n",
      "Epoch 42, Training ('accuracy', 0.4), Time 0.25\n",
      "Epoch 43, Training ('accuracy', 0.5714285714285714), Time 0.25\n",
      "Epoch 44, Training ('accuracy', 0.42857142857142855), Time 0.25\n",
      "Epoch 45, Training ('accuracy', 0.3142857142857143), Time 0.25\n",
      "Epoch 46, Training ('accuracy', 0.4857142857142857), Time 0.25\n",
      "Epoch 47, Training ('accuracy', 0.42857142857142855), Time 0.25\n",
      "Epoch 48, Training ('accuracy', 0.42857142857142855), Time 0.25\n",
      "Epoch 49, Training ('accuracy', 0.34285714285714286), Time 0.25\n",
      "Epoch 50, Training ('accuracy', 0.14285714285714285), Time 0.25\n",
      "Epoch 51, Training ('accuracy', 0.22857142857142856), Time 0.25\n",
      "Epoch 52, Training ('accuracy', 0.2571428571428571), Time 0.25\n",
      "Epoch 53, Training ('accuracy', 0.14285714285714285), Time 0.25\n",
      "Epoch 54, Training ('accuracy', 0.3142857142857143), Time 0.25\n",
      "Epoch 55, Training ('accuracy', 0.2857142857142857), Time 0.25\n",
      "Epoch 56, Training ('accuracy', 0.22857142857142856), Time 0.25\n",
      "Epoch 57, Training ('accuracy', 0.22857142857142856), Time 0.25\n",
      "Epoch 58, Training ('accuracy', 0.2), Time 0.25\n",
      "Epoch 59, Training ('accuracy', 0.2857142857142857), Time 0.25\n",
      "Epoch 60, Training ('accuracy', 0.2571428571428571), Time 0.25\n",
      "Epoch 61, Training ('accuracy', 0.37142857142857144), Time 0.25\n",
      "Epoch 62, Training ('accuracy', 0.5142857142857142), Time 0.25\n",
      "Epoch 63, Training ('accuracy', 0.37142857142857144), Time 0.25\n",
      "Epoch 64, Training ('accuracy', 0.2571428571428571), Time 0.25\n",
      "Epoch 65, Training ('accuracy', 0.5428571428571428), Time 0.25\n",
      "Epoch 66, Training ('accuracy', 0.45714285714285713), Time 0.25\n",
      "Epoch 67, Training ('accuracy', 0.5142857142857142), Time 0.25\n",
      "Epoch 68, Training ('accuracy', 0.42857142857142855), Time 0.25\n",
      "Epoch 69, Training ('accuracy', 0.42857142857142855), Time 0.25\n",
      "Epoch 70, Training ('accuracy', 0.45714285714285713), Time 0.25\n",
      "Epoch 71, Training ('accuracy', 0.4857142857142857), Time 0.25\n",
      "Epoch 72, Training ('accuracy', 0.45714285714285713), Time 0.25\n",
      "Epoch 73, Training ('accuracy', 0.5142857142857142), Time 0.25\n",
      "Epoch 74, Training ('accuracy', 0.6285714285714286), Time 0.25\n",
      "Epoch 75, Training ('accuracy', 0.5714285714285714), Time 0.25\n",
      "Epoch 76, Training ('accuracy', 0.6285714285714286), Time 0.25\n",
      "Epoch 77, Training ('accuracy', 0.5714285714285714), Time 0.25\n",
      "Epoch 78, Training ('accuracy', 0.42857142857142855), Time 0.25\n",
      "Epoch 79, Training ('accuracy', 0.5428571428571428), Time 0.25\n",
      "Epoch 80, Training ('accuracy', 0.6285714285714286), Time 0.25\n",
      "Epoch 81, Training ('accuracy', 0.6285714285714286), Time 0.25\n",
      "Epoch 82, Training ('accuracy', 0.6285714285714286), Time 0.25\n",
      "Epoch 83, Training ('accuracy', 0.6285714285714286), Time 0.25\n",
      "Epoch 84, Training ('accuracy', 0.5428571428571428), Time 0.25\n",
      "Epoch 85, Training ('accuracy', 0.6), Time 0.25\n",
      "Epoch 86, Training ('accuracy', 0.6), Time 0.25\n",
      "Epoch 87, Training ('accuracy', 0.6), Time 0.25\n",
      "Epoch 88, Training ('accuracy', 0.6857142857142857), Time 0.25\n",
      "Epoch 89, Training ('accuracy', 0.6285714285714286), Time 0.25\n",
      "Epoch 90, Training ('accuracy', 0.6571428571428571), Time 0.25\n",
      "Epoch 91, Training ('accuracy', 0.45714285714285713), Time 0.25\n",
      "Epoch 92, Training ('accuracy', 0.7142857142857143), Time 0.25\n",
      "Epoch 93, Training ('accuracy', 0.7142857142857143), Time 0.25\n",
      "Epoch 94, Training ('accuracy', 0.7714285714285715), Time 0.25\n",
      "Epoch 95, Training ('accuracy', 0.7142857142857143), Time 0.25\n",
      "Epoch 96, Training ('accuracy', 0.7714285714285715), Time 0.25\n",
      "Epoch 97, Training ('accuracy', 0.5714285714285714), Time 0.25\n",
      "Epoch 98, Training ('accuracy', 0.6857142857142857), Time 0.25\n",
      "Epoch 99, Training ('accuracy', 0.7428571428571429), Time 0.25\n",
      "Epoch 100, Training ('accuracy', 0.8), Time 0.25\n",
      "Epoch 101, Training ('accuracy', 0.8), Time 0.25\n",
      "Epoch 102, Training ('accuracy', 0.7428571428571429), Time 0.25\n",
      "Epoch 103, Training ('accuracy', 0.6), Time 0.25\n",
      "Epoch 104, Training ('accuracy', 0.7142857142857143), Time 0.25\n",
      "Epoch 105, Training ('accuracy', 0.7714285714285715), Time 0.25\n",
      "Epoch 106, Training ('accuracy', 0.8285714285714286), Time 0.25\n",
      "Epoch 107, Training ('accuracy', 0.8285714285714286), Time 0.25\n",
      "Epoch 108, Training ('accuracy', 0.8571428571428571), Time 0.25\n",
      "Epoch 109, Training ('accuracy', 0.8285714285714286), Time 0.25\n",
      "Epoch 110, Training ('accuracy', 0.8571428571428571), Time 0.25\n",
      "Epoch 111, Training ('accuracy', 0.8285714285714286), Time 0.25\n",
      "Epoch 112, Training ('accuracy', 0.8571428571428571), Time 0.25\n",
      "Epoch 113, Training ('accuracy', 0.8285714285714286), Time 0.25\n",
      "Epoch 114, Training ('accuracy', 0.8571428571428571), Time 0.25\n",
      "Epoch 115, Training ('accuracy', 0.8285714285714286), Time 0.25\n",
      "Epoch 116, Training ('accuracy', 0.8571428571428571), Time 0.25\n",
      "Epoch 117, Training ('accuracy', 0.8285714285714286), Time 0.25\n",
      "Epoch 118, Training ('accuracy', 0.8571428571428571), Time 0.25\n",
      "Epoch 119, Training ('accuracy', 0.8285714285714286), Time 0.25\n"
     ]
    }
   ],
   "source": [
    "for epoch in range(120):\n",
    "    train_iter.reset()\n",
    "    metric.reset()\n",
    "    \n",
    "    st = time.time()\n",
    "    for batch in train_iter:\n",
    "        model.forward(data_batch=batch, is_train=True)\n",
    "        model.update_metric(metric, batch.label)\n",
    "        model.backward()\n",
    "        model.update()\n",
    "        \n",
    "    et = time.time()-st\n",
    "    print('Epoch %d, Training %s, Time %.2f' % (epoch, metric.get(), et))"
   ]
  },
  {
   "cell_type": "code",
   "execution_count": 36,
   "metadata": {},
   "outputs": [
    {
     "data": {
      "text/plain": [
       "[('accuracy', 0.8857142857142857)]"
      ]
     },
     "execution_count": 36,
     "metadata": {},
     "output_type": "execute_result"
    }
   ],
   "source": [
    "model.score(train_iter, metric)"
   ]
  },
  {
   "cell_type": "code",
   "execution_count": 38,
   "metadata": {},
   "outputs": [
    {
     "name": "stdout",
     "output_type": "stream",
     "text": [
      "data.csv  \u001b[0m\u001b[01;34mpic\u001b[0m/  \u001b[01;35mtest-crop.png\u001b[0m\r\n"
     ]
    }
   ],
   "source": [
    "ls data1"
   ]
  },
  {
   "cell_type": "code",
   "execution_count": 41,
   "metadata": {},
   "outputs": [
    {
     "data": {
      "text/plain": [
       "<matplotlib.image.AxesImage at 0x7fbef435d910>"
      ]
     },
     "execution_count": 41,
     "metadata": {},
     "output_type": "execute_result"
    },
    {
     "data": {
      "image/png": "[encoded data removed]",
      "text/plain": [
       "<matplotlib.figure.Figure at 0x7fbefc08d590>"
      ]
     },
     "metadata": {},
     "output_type": "display_data"
    }
   ],
   "source": [
    "# I took a picture of my hand\n",
    "pred_im = cv2.imread('data1/test-crop.png', 0)\n",
    "plt.imshow(pred_im)"
   ]
  },
  {
   "cell_type": "code",
   "execution_count": 42,
   "metadata": {},
   "outputs": [
    {
     "data": {
      "text/plain": [
       "(410, 410)"
      ]
     },
     "execution_count": 42,
     "metadata": {},
     "output_type": "execute_result"
    }
   ],
   "source": [
    "pred_im.shape"
   ]
  },
  {
   "cell_type": "code",
   "execution_count": 43,
   "metadata": {
    "collapsed": true
   },
   "outputs": [],
   "source": [
    "pred_res = cv2.resize(pred_im,(200, 200), interpolation = cv2.INTER_CUBIC)\n",
    "plt.imshow(pred_res)"
   ]
  },
  {
   "cell_type": "code",
   "execution_count": 50,
   "metadata": {},
   "outputs": [],
   "source": [
    "test_ = np.empty((1,1,200,200))\n",
    "test_[0][0] = pred_res\n",
    "lb = np.array([0])"
   ]
  },
  {
   "cell_type": "code",
   "execution_count": 51,
   "metadata": {},
   "outputs": [
    {
     "data": {
      "text/plain": [
       "((1, 1, 200, 200), (1,))"
      ]
     },
     "execution_count": 51,
     "metadata": {},
     "output_type": "execute_result"
    }
   ],
   "source": [
    "test_.shape, lb.shape"
   ]
  },
  {
   "cell_type": "code",
   "execution_count": 52,
   "metadata": {
    "collapsed": true
   },
   "outputs": [],
   "source": [
    "eval_iter = mx.io.NDArrayIter(test_, lb, 1)"
   ]
  },
  {
   "cell_type": "code",
   "execution_count": 57,
   "metadata": {},
   "outputs": [],
   "source": [
    "# test picture with label 0\n",
    "pred = model.predict(eval_iter).asnumpy()"
   ]
  },
  {
   "cell_type": "code",
   "execution_count": 59,
   "metadata": {},
   "outputs": [
    {
     "data": {
      "text/plain": [
       "0"
      ]
     },
     "execution_count": 59,
     "metadata": {},
     "output_type": "execute_result"
    }
   ],
   "source": [
    "pred.argmax() # correct!"
   ]
  },
  {
   "cell_type": "code",
   "execution_count": null,
   "metadata": {
    "collapsed": true
   },
   "outputs": [],
   "source": []
  }
 ],
 "metadata": {
  "kernelspec": {
   "display_name": "Python 2",
   "language": "python",
   "name": "python2"
  },
  "language_info": {
   "codemirror_mode": {
    "name": "ipython",
    "version": 2
   },
   "file_extension": ".py",
   "mimetype": "text/x-python",
   "name": "python",
   "nbconvert_exporter": "python",
   "pygments_lexer": "ipython2",
   "version": "2.7.12"
  }
 },
 "nbformat": 4,
 "nbformat_minor": 2
}
