{
 "cells": [
  {
   "cell_type": "code",
   "execution_count": 1,
   "metadata": {
    "collapsed": true
   },
   "outputs": [],
   "source": [
    "import numpy as np\n",
    "import mxnet as mx\n",
    "import time\n",
    "import pandas as pd\n",
    "\n",
    "import cv2\n",
    "\n",
    "import logging\n",
    "logging.getLogger().setLevel(logging.DEBUG)  # logging to stdout"
   ]
  },
  {
   "cell_type": "code",
   "execution_count": 2,
   "metadata": {
    "collapsed": true
   },
   "outputs": [],
   "source": [
    "import matplotlib.pyplot as plt\n",
    "%matplotlib inline"
   ]
  },
  {
   "cell_type": "code",
   "execution_count": 3,
   "metadata": {
    "collapsed": true
   },
   "outputs": [],
   "source": [
    "data0 = pd.read_csv('fdata/fdata.csv', names=['name','state'])"
   ]
  },
  {
   "cell_type": "code",
   "execution_count": 4,
   "metadata": {},
   "outputs": [
    {
     "data": {
      "text/plain": [
       "(26,\n",
       " {' *': 23,\n",
       "  ' +': 21,\n",
       "  ' -': 22,\n",
       "  ' /': 24,\n",
       "  ' 0': 20,\n",
       "  ' 1': 11,\n",
       "  ' 2': 12,\n",
       "  ' 3': 13,\n",
       "  ' 4': 14,\n",
       "  ' 5': 15,\n",
       "  ' 6': 16,\n",
       "  ' 7': 17,\n",
       "  ' 8': 18,\n",
       "  ' 9': 19,\n",
       "  ' =': 25,\n",
       "  ' alphabet1': 3,\n",
       "  ' alphabet2': 4,\n",
       "  ' alt': 10,\n",
       "  ' ctrl': 9,\n",
       "  ' initial': 0,\n",
       "  ' number': 2,\n",
       "  ' ready': 1,\n",
       "  ' shift': 8,\n",
       "  ' special1': 5,\n",
       "  ' special2': 6,\n",
       "  ' special3': 7})"
      ]
     },
     "execution_count": 4,
     "metadata": {},
     "output_type": "execute_result"
    }
   ],
   "source": [
    "num_class = len(data0['state'].unique())\n",
    "ges_to_num = dict({(g,i) for i, g in enumerate(data0['state'].unique())})\n",
    "num_to_ges = dict({(i,g) for i, g in enumerate(data0['state'].unique())})\n",
    "num_class, ges_to_num"
   ]
  },
  {
   "cell_type": "code",
   "execution_count": 5,
   "metadata": {
    "collapsed": true
   },
   "outputs": [],
   "source": [
    "data0 = data0.replace({'state':ges_to_num})"
   ]
  },
  {
   "cell_type": "code",
   "execution_count": 6,
   "metadata": {},
   "outputs": [
    {
     "data": {
      "text/plain": [
       "((300, 1, 200, 200), (300,))"
      ]
     },
     "execution_count": 6,
     "metadata": {},
     "output_type": "execute_result"
    }
   ],
   "source": [
    "labels = np.empty((data0.shape[0]))\n",
    "\n",
    "res_width, res_height = 200, 200\n",
    "imgs = np.empty(shape=(data0.shape[0],1,res_width,res_height))\n",
    "imgs.shape, labels.shape"
   ]
  },
  {
   "cell_type": "code",
   "execution_count": 7,
   "metadata": {
    "collapsed": true
   },
   "outputs": [],
   "source": [
    "prefix = 'fdata/pic/'\n",
    "outfix = 'fdata/bi_pic/'\n",
    "for i, (im_name, state) in enumerate(data0.values):\n",
    "    im_path = prefix + im_name\n",
    "#     print im_path\n",
    "    img = cv2.imread(im_path)\n",
    "    gray = cv2.cvtColor(img, cv2.COLOR_BGR2GRAY)\n",
    "    res = cv2.resize(gray,(200, 200), interpolation=cv2.INTER_CUBIC)\n",
    "\n",
    "    imgs[i][0] = res\n",
    "    labels[i] = state"
   ]
  },
  {
   "cell_type": "code",
   "execution_count": 8,
   "metadata": {
    "collapsed": true
   },
   "outputs": [],
   "source": [
    "metric = mx.metric.Accuracy()"
   ]
  },
  {
   "cell_type": "code",
   "execution_count": 9,
   "metadata": {},
   "outputs": [
    {
     "data": {
      "text/plain": [
       "((300, 1, 200, 200), (300,))"
      ]
     },
     "execution_count": 9,
     "metadata": {},
     "output_type": "execute_result"
    }
   ],
   "source": [
    "train_data, train_label = imgs, labels\n",
    "# test_data, test_label = imgs[23:], labels[2:]\n",
    "train_data.shape, train_label.shape#, test_data.shape, test_label.shape"
   ]
  },
  {
   "cell_type": "code",
   "execution_count": 10,
   "metadata": {
    "collapsed": true
   },
   "outputs": [],
   "source": [
    "batch_size = 10\n",
    "train_iter = mx.io.NDArrayIter(train_data, train_label, batch_size, shuffle=True)\n",
    "# eval_iter = mx.io.NDArrayIter(test_data, test_label, batch_size)"
   ]
  },
  {
   "cell_type": "code",
   "execution_count": 32,
   "metadata": {
    "collapsed": true
   },
   "outputs": [],
   "source": [
    "chk_prefix='models/chkpt'\n",
    "sym, arg_params, aux_params = mx.model.load_checkpoint(chk_prefix,250)"
   ]
  },
  {
   "cell_type": "code",
   "execution_count": 33,
   "metadata": {
    "collapsed": true
   },
   "outputs": [],
   "source": [
    "model = mx.mod.Module(symbol=sym, context=mx.gpu(), label_names=None)"
   ]
  },
  {
   "cell_type": "code",
   "execution_count": 34,
   "metadata": {
    "collapsed": true
   },
   "outputs": [],
   "source": [
    "model.bind(for_training=False, data_shapes=[('data', (10,1,200,200))], \n",
    "         label_shapes=model._label_shapes)"
   ]
  },
  {
   "cell_type": "code",
   "execution_count": 35,
   "metadata": {
    "collapsed": true
   },
   "outputs": [],
   "source": [
    "model.set_params(arg_params, aux_params, allow_missing=True)"
   ]
  },
  {
   "cell_type": "code",
   "execution_count": 36,
   "metadata": {
    "collapsed": true
   },
   "outputs": [],
   "source": [
    "m = model.predict(train_iter).asnumpy()"
   ]
  },
  {
   "cell_type": "code",
   "execution_count": 37,
   "metadata": {
    "collapsed": true
   },
   "outputs": [],
   "source": [
    "true = 0\n",
    "cnt = 0\n",
    "for prob, l in zip(m, train_label):\n",
    "    prob = np.squeeze(prob)\n",
    "    a = np.argsort(prob)[::-1]\n",
    "#     pred = np.argsort(p)[0]\n",
    "    lab = int(l)\n",
    "    cnt += 1\n",
    "    if pred == lab:\n",
    "        true += 1\n",
    "        "
   ]
  },
  {
   "cell_type": "code",
   "execution_count": 38,
   "metadata": {},
   "outputs": [
    {
     "data": {
      "text/plain": [
       "(14, 300)"
      ]
     },
     "execution_count": 38,
     "metadata": {},
     "output_type": "execute_result"
    }
   ],
   "source": [
    "true, cnt"
   ]
  },
  {
   "cell_type": "code",
   "execution_count": null,
   "metadata": {
    "collapsed": true
   },
   "outputs": [],
   "source": []
  }
 ],
 "metadata": {
  "kernelspec": {
   "display_name": "Python 2",
   "language": "python",
   "name": "python2"
  },
  "language_info": {
   "codemirror_mode": {
    "name": "ipython",
    "version": 2
   },
   "file_extension": ".py",
   "mimetype": "text/x-python",
   "name": "python",
   "nbconvert_exporter": "python",
   "pygments_lexer": "ipython2",
   "version": "2.7.12"
  }
 },
 "nbformat": 4,
 "nbformat_minor": 2
}
