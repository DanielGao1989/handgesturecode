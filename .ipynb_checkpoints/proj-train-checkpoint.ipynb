{
 "cells": [
  {
   "cell_type": "code",
   "execution_count": 1,
   "metadata": {
    "collapsed": true
   },
   "outputs": [],
   "source": [
    "import numpy as np\n",
    "import mxnet as mx\n",
    "import time\n",
    "import pandas as pd\n",
    "\n",
    "import cv2\n",
    "\n",
    "import logging\n",
    "logging.getLogger().setLevel(logging.DEBUG)  # logging to stdout"
   ]
  },
  {
   "cell_type": "code",
   "execution_count": 2,
   "metadata": {
    "collapsed": true
   },
   "outputs": [],
   "source": [
    "import matplotlib.pyplot as plt\n",
    "%matplotlib inline"
   ]
  },
  {
   "cell_type": "code",
   "execution_count": 3,
   "metadata": {
    "collapsed": true
   },
   "outputs": [],
   "source": [
    "data0 = pd.read_csv('fdata/fdata.csv', names=['name','state'])"
   ]
  },
  {
   "cell_type": "code",
   "execution_count": 4,
   "metadata": {},
   "outputs": [
    {
     "data": {
      "text/html": [
       "<div>\n",
       "<style>\n",
       "    .dataframe thead tr:only-child th {\n",
       "        text-align: right;\n",
       "    }\n",
       "\n",
       "    .dataframe thead th {\n",
       "        text-align: left;\n",
       "    }\n",
       "\n",
       "    .dataframe tbody tr th {\n",
       "        vertical-align: top;\n",
       "    }\n",
       "</style>\n",
       "<table border=\"1\" class=\"dataframe\">\n",
       "  <thead>\n",
       "    <tr style=\"text-align: right;\">\n",
       "      <th></th>\n",
       "      <th>name</th>\n",
       "      <th>state</th>\n",
       "    </tr>\n",
       "  </thead>\n",
       "  <tbody>\n",
       "    <tr>\n",
       "      <th>0</th>\n",
       "      <td>1-closedleft.jpg</td>\n",
       "      <td>initial</td>\n",
       "    </tr>\n",
       "    <tr>\n",
       "      <th>1</th>\n",
       "      <td>1-closedmiddle.jpg</td>\n",
       "      <td>initial</td>\n",
       "    </tr>\n",
       "    <tr>\n",
       "      <th>2</th>\n",
       "      <td>1-closedright.jpg</td>\n",
       "      <td>initial</td>\n",
       "    </tr>\n",
       "    <tr>\n",
       "      <th>3</th>\n",
       "      <td>1-openleft.jpg</td>\n",
       "      <td>ready</td>\n",
       "    </tr>\n",
       "    <tr>\n",
       "      <th>4</th>\n",
       "      <td>1-openmiddle.jpg</td>\n",
       "      <td>ready</td>\n",
       "    </tr>\n",
       "  </tbody>\n",
       "</table>\n",
       "</div>"
      ],
      "text/plain": [
       "                 name     state\n",
       "0    1-closedleft.jpg   initial\n",
       "1  1-closedmiddle.jpg   initial\n",
       "2   1-closedright.jpg   initial\n",
       "3      1-openleft.jpg     ready\n",
       "4    1-openmiddle.jpg     ready"
      ]
     },
     "execution_count": 4,
     "metadata": {},
     "output_type": "execute_result"
    }
   ],
   "source": [
    "data0.head()"
   ]
  },
  {
   "cell_type": "code",
   "execution_count": 5,
   "metadata": {},
   "outputs": [
    {
     "data": {
      "text/plain": [
       "array([' initial', ' ready', ' number', ' alphabet1', ' alphabet2',\n",
       "       ' special1', ' special2', ' special3', ' shift', ' ctrl', ' alt',\n",
       "       ' 1', ' 2', ' 3', ' 4', ' 5', ' 6', ' 7', ' 8', ' 9', ' 0', ' +',\n",
       "       ' -', ' *', ' /', ' ='], dtype=object)"
      ]
     },
     "execution_count": 5,
     "metadata": {},
     "output_type": "execute_result"
    }
   ],
   "source": [
    "data0['state'].unique()"
   ]
  },
  {
   "cell_type": "code",
   "execution_count": 6,
   "metadata": {},
   "outputs": [
    {
     "data": {
      "text/plain": [
       "(26,\n",
       " {' *': 23,\n",
       "  ' +': 21,\n",
       "  ' -': 22,\n",
       "  ' /': 24,\n",
       "  ' 0': 20,\n",
       "  ' 1': 11,\n",
       "  ' 2': 12,\n",
       "  ' 3': 13,\n",
       "  ' 4': 14,\n",
       "  ' 5': 15,\n",
       "  ' 6': 16,\n",
       "  ' 7': 17,\n",
       "  ' 8': 18,\n",
       "  ' 9': 19,\n",
       "  ' =': 25,\n",
       "  ' alphabet1': 3,\n",
       "  ' alphabet2': 4,\n",
       "  ' alt': 10,\n",
       "  ' ctrl': 9,\n",
       "  ' initial': 0,\n",
       "  ' number': 2,\n",
       "  ' ready': 1,\n",
       "  ' shift': 8,\n",
       "  ' special1': 5,\n",
       "  ' special2': 6,\n",
       "  ' special3': 7})"
      ]
     },
     "execution_count": 6,
     "metadata": {},
     "output_type": "execute_result"
    }
   ],
   "source": [
    "num_class = len(data0['state'].unique())\n",
    "ges_to_num = dict({(g,i) for i, g in enumerate(data0['state'].unique())})\n",
    "num_to_ges = dict({(i,g) for i, g in enumerate(data0['state'].unique())})\n",
    "num_class, ges_to_num"
   ]
  },
  {
   "cell_type": "code",
   "execution_count": 7,
   "metadata": {
    "collapsed": true
   },
   "outputs": [],
   "source": [
    "data0 = data0.replace({'state':ges_to_num})"
   ]
  },
  {
   "cell_type": "code",
   "execution_count": 8,
   "metadata": {},
   "outputs": [
    {
     "data": {
      "text/plain": [
       "300"
      ]
     },
     "execution_count": 8,
     "metadata": {},
     "output_type": "execute_result"
    }
   ],
   "source": [
    "data0.shape[0]"
   ]
  },
  {
   "cell_type": "code",
   "execution_count": 36,
   "metadata": {},
   "outputs": [
    {
     "data": {
      "text/plain": [
       "((300, 3, 200, 200), (300,))"
      ]
     },
     "execution_count": 36,
     "metadata": {},
     "output_type": "execute_result"
    }
   ],
   "source": [
    "labels = np.empty((data0.shape[0]))\n",
    "\n",
    "res_width, res_height = 200, 200\n",
    "imgs = np.empty(shape=(data0.shape[0],3, res_width,res_height))\n",
    "imgs.shape, labels.shape"
   ]
  },
  {
   "cell_type": "code",
   "execution_count": 37,
   "metadata": {},
   "outputs": [],
   "source": [
    "prefix = 'fdata/hand_pic_v2/'\n",
    "\n",
    "for i, (im_name, state) in enumerate(data0.values):\n",
    "    im_path = prefix + im_name\n",
    "#     print im_path\n",
    "    img = cv2.imread(im_path)\n",
    "    gray = cv2.cvtColor(img, cv2.COLOR_BGR2YCR_CB)\n",
    "    res = cv2.resize(gray,(200, 200), interpolation=cv2.INTER_CUBIC)\n",
    "\n",
    "    res = np.swapaxes(res, 0, 2)\n",
    "    res = np.swapaxes(res, 1, 2)\n",
    "    res = res[np.newaxis, :]\n",
    "\n",
    "    imgs[i] = res\n",
    "    labels[i] = state"
   ]
  },
  {
   "cell_type": "code",
   "execution_count": 39,
   "metadata": {},
   "outputs": [],
   "source": [
    "# plt.imshow(res)"
   ]
  },
  {
   "cell_type": "code",
   "execution_count": 40,
   "metadata": {
    "collapsed": true
   },
   "outputs": [],
   "source": [
    "from sklearn.model_selection import train_test_split\n",
    "train_data, test_data, train_label, test_label = train_test_split(imgs, labels, test_size=0.1, shuffle=True)"
   ]
  },
  {
   "cell_type": "code",
   "execution_count": 41,
   "metadata": {},
   "outputs": [
    {
     "data": {
      "text/plain": [
       "((270, 3, 200, 200), (270,), (30, 3, 200, 200), (30,))"
      ]
     },
     "execution_count": 41,
     "metadata": {},
     "output_type": "execute_result"
    }
   ],
   "source": [
    "# train_data, train_label = imgs, labels\n",
    "# test_data, test_label = imgs[23:], labels[2:]\n",
    "train_data.shape, train_label.shape, test_data.shape, test_label.shape"
   ]
  },
  {
   "cell_type": "code",
   "execution_count": 42,
   "metadata": {},
   "outputs": [
    {
     "data": {
      "text/plain": [
       "array([ 17.,   0.,  18.,  25.,   0.,   0.,  13.,  22.,   5.,  19.,  22.,\n",
       "         1.,   5.,  22.,  21.,  10.,   9.,  22.,   0.,  21.,  18.,  10.,\n",
       "        24.,  14.,  21.,   3.,  15.,   1.,  22.,   3.])"
      ]
     },
     "execution_count": 42,
     "metadata": {},
     "output_type": "execute_result"
    }
   ],
   "source": [
    "test_label"
   ]
  },
  {
   "cell_type": "code",
   "execution_count": 43,
   "metadata": {
    "collapsed": true
   },
   "outputs": [],
   "source": [
    "batch_size = 10\n",
    "train_iter = mx.io.NDArrayIter(train_data, train_label, batch_size, shuffle=True)\n",
    "eval_iter = mx.io.NDArrayIter(test_data, test_label, batch_size)"
   ]
  },
  {
   "cell_type": "code",
   "execution_count": 52,
   "metadata": {
    "scrolled": false
   },
   "outputs": [
    {
     "data": {
      "image/svg+xml": [
       "<?xml version=\"1.0\" encoding=\"UTF-8\" standalone=\"no\"?>\n",
       "<!DOCTYPE svg PUBLIC \"-//W3C//DTD SVG 1.1//EN\"\n",
       " \"http://www.w3.org/Graphics/SVG/1.1/DTD/svg11.dtd\">\n",
       "<!-- Generated by graphviz version 2.38.0 (20140413.2041)\n",
       " -->\n",
       "<!-- Title: plot Pages: 1 -->\n",
       "<svg width=\"214pt\" height=\"1382pt\"\n",
       " viewBox=\"0.00 0.00 214.00 1382.00\" xmlns=\"http://www.w3.org/2000/svg\" xmlns:xlink=\"http://www.w3.org/1999/xlink\">\n",
       "<g id=\"graph0\" class=\"graph\" transform=\"scale(1 1) rotate(0) translate(4 1378)\">\n",
       "<title>plot</title>\n",
       "<polygon fill=\"white\" stroke=\"none\" points=\"-4,4 -4,-1378 210,-1378 210,4 -4,4\"/>\n",
       "<!-- data -->\n",
       "<g id=\"node1\" class=\"node\"><title>data</title>\n",
       "<ellipse fill=\"#8dd3c7\" stroke=\"black\" cx=\"47\" cy=\"-29\" rx=\"47\" ry=\"29\"/>\n",
       "<text text-anchor=\"middle\" x=\"47\" y=\"-25.3\" font-family=\"Times,serif\" font-size=\"14.00\">data</text>\n",
       "</g>\n",
       "<!-- conv1 -->\n",
       "<g id=\"node2\" class=\"node\"><title>conv1</title>\n",
       "<polygon fill=\"#fb8072\" stroke=\"black\" points=\"94,-152 -7.10543e-15,-152 -7.10543e-15,-94 94,-94 94,-152\"/>\n",
       "<text text-anchor=\"middle\" x=\"47\" y=\"-126.8\" font-family=\"Times,serif\" font-size=\"14.00\">Convolution</text>\n",
       "<text text-anchor=\"middle\" x=\"47\" y=\"-111.8\" font-family=\"Times,serif\" font-size=\"14.00\">5x5/1, 20</text>\n",
       "</g>\n",
       "<!-- conv1&#45;&gt;data -->\n",
       "<g id=\"edge1\" class=\"edge\"><title>conv1&#45;&gt;data</title>\n",
       "<path fill=\"none\" stroke=\"black\" d=\"M47,-83.7443C47,-75.2043 47,-66.2977 47,-58.2479\"/>\n",
       "<polygon fill=\"black\" stroke=\"black\" points=\"47,-93.8971 42.5001,-83.897 47,-88.8971 47.0001,-83.8971 47.0001,-83.8971 47.0001,-83.8971 47,-88.8971 51.5001,-83.8971 47,-93.8971 47,-93.8971\"/>\n",
       "</g>\n",
       "<!-- batchnorm4 -->\n",
       "<g id=\"node3\" class=\"node\"><title>batchnorm4</title>\n",
       "<polygon fill=\"#bebada\" stroke=\"black\" points=\"94,-246 -7.10543e-15,-246 -7.10543e-15,-188 94,-188 94,-246\"/>\n",
       "<text text-anchor=\"middle\" x=\"47\" y=\"-213.3\" font-family=\"Times,serif\" font-size=\"14.00\">batchnorm4</text>\n",
       "</g>\n",
       "<!-- batchnorm4&#45;&gt;conv1 -->\n",
       "<g id=\"edge2\" class=\"edge\"><title>batchnorm4&#45;&gt;conv1</title>\n",
       "<path fill=\"none\" stroke=\"black\" d=\"M47,-177.744C47,-169.204 47,-160.298 47,-152.248\"/>\n",
       "<polygon fill=\"black\" stroke=\"black\" points=\"47,-187.897 42.5001,-177.897 47,-182.897 47.0001,-177.897 47.0001,-177.897 47.0001,-177.897 47,-182.897 51.5001,-177.897 47,-187.897 47,-187.897\"/>\n",
       "</g>\n",
       "<!-- activation6 -->\n",
       "<g id=\"node4\" class=\"node\"><title>activation6</title>\n",
       "<polygon fill=\"#ffffb3\" stroke=\"black\" points=\"94,-340 -7.10543e-15,-340 -7.10543e-15,-282 94,-282 94,-340\"/>\n",
       "<text text-anchor=\"middle\" x=\"47\" y=\"-314.8\" font-family=\"Times,serif\" font-size=\"14.00\">Activation</text>\n",
       "<text text-anchor=\"middle\" x=\"47\" y=\"-299.8\" font-family=\"Times,serif\" font-size=\"14.00\">relu</text>\n",
       "</g>\n",
       "<!-- activation6&#45;&gt;batchnorm4 -->\n",
       "<g id=\"edge3\" class=\"edge\"><title>activation6&#45;&gt;batchnorm4</title>\n",
       "<path fill=\"none\" stroke=\"black\" d=\"M47,-271.744C47,-263.204 47,-254.298 47,-246.248\"/>\n",
       "<polygon fill=\"black\" stroke=\"black\" points=\"47,-281.897 42.5001,-271.897 47,-276.897 47.0001,-271.897 47.0001,-271.897 47.0001,-271.897 47,-276.897 51.5001,-271.897 47,-281.897 47,-281.897\"/>\n",
       "</g>\n",
       "<!-- pooling4 -->\n",
       "<g id=\"node5\" class=\"node\"><title>pooling4</title>\n",
       "<polygon fill=\"#80b1d3\" stroke=\"black\" points=\"94,-434 -7.10543e-15,-434 -7.10543e-15,-376 94,-376 94,-434\"/>\n",
       "<text text-anchor=\"middle\" x=\"47\" y=\"-408.8\" font-family=\"Times,serif\" font-size=\"14.00\">Pooling</text>\n",
       "<text text-anchor=\"middle\" x=\"47\" y=\"-393.8\" font-family=\"Times,serif\" font-size=\"14.00\">max, 2x2/2x2</text>\n",
       "</g>\n",
       "<!-- pooling4&#45;&gt;activation6 -->\n",
       "<g id=\"edge4\" class=\"edge\"><title>pooling4&#45;&gt;activation6</title>\n",
       "<path fill=\"none\" stroke=\"black\" d=\"M47,-365.744C47,-357.204 47,-348.298 47,-340.248\"/>\n",
       "<polygon fill=\"black\" stroke=\"black\" points=\"47,-375.897 42.5001,-365.897 47,-370.897 47.0001,-365.897 47.0001,-365.897 47.0001,-365.897 47,-370.897 51.5001,-365.897 47,-375.897 47,-375.897\"/>\n",
       "</g>\n",
       "<!-- conv2 -->\n",
       "<g id=\"node6\" class=\"node\"><title>conv2</title>\n",
       "<polygon fill=\"#fb8072\" stroke=\"black\" points=\"94,-528 -7.10543e-15,-528 -7.10543e-15,-470 94,-470 94,-528\"/>\n",
       "<text text-anchor=\"middle\" x=\"47\" y=\"-502.8\" font-family=\"Times,serif\" font-size=\"14.00\">Convolution</text>\n",
       "<text text-anchor=\"middle\" x=\"47\" y=\"-487.8\" font-family=\"Times,serif\" font-size=\"14.00\">5x5/1, 50</text>\n",
       "</g>\n",
       "<!-- conv2&#45;&gt;pooling4 -->\n",
       "<g id=\"edge5\" class=\"edge\"><title>conv2&#45;&gt;pooling4</title>\n",
       "<path fill=\"none\" stroke=\"black\" d=\"M47,-459.744C47,-451.204 47,-442.298 47,-434.248\"/>\n",
       "<polygon fill=\"black\" stroke=\"black\" points=\"47,-469.897 42.5001,-459.897 47,-464.897 47.0001,-459.897 47.0001,-459.897 47.0001,-459.897 47,-464.897 51.5001,-459.897 47,-469.897 47,-469.897\"/>\n",
       "</g>\n",
       "<!-- batchnorm5 -->\n",
       "<g id=\"node7\" class=\"node\"><title>batchnorm5</title>\n",
       "<polygon fill=\"#bebada\" stroke=\"black\" points=\"94,-622 -7.10543e-15,-622 -7.10543e-15,-564 94,-564 94,-622\"/>\n",
       "<text text-anchor=\"middle\" x=\"47\" y=\"-589.3\" font-family=\"Times,serif\" font-size=\"14.00\">batchnorm5</text>\n",
       "</g>\n",
       "<!-- batchnorm5&#45;&gt;conv2 -->\n",
       "<g id=\"edge6\" class=\"edge\"><title>batchnorm5&#45;&gt;conv2</title>\n",
       "<path fill=\"none\" stroke=\"black\" d=\"M47,-553.744C47,-545.204 47,-536.298 47,-528.248\"/>\n",
       "<polygon fill=\"black\" stroke=\"black\" points=\"47,-563.897 42.5001,-553.897 47,-558.897 47.0001,-553.897 47.0001,-553.897 47.0001,-553.897 47,-558.897 51.5001,-553.897 47,-563.897 47,-563.897\"/>\n",
       "</g>\n",
       "<!-- activation7 -->\n",
       "<g id=\"node8\" class=\"node\"><title>activation7</title>\n",
       "<polygon fill=\"#ffffb3\" stroke=\"black\" points=\"94,-716 -7.10543e-15,-716 -7.10543e-15,-658 94,-658 94,-716\"/>\n",
       "<text text-anchor=\"middle\" x=\"47\" y=\"-690.8\" font-family=\"Times,serif\" font-size=\"14.00\">Activation</text>\n",
       "<text text-anchor=\"middle\" x=\"47\" y=\"-675.8\" font-family=\"Times,serif\" font-size=\"14.00\">relu</text>\n",
       "</g>\n",
       "<!-- activation7&#45;&gt;batchnorm5 -->\n",
       "<g id=\"edge7\" class=\"edge\"><title>activation7&#45;&gt;batchnorm5</title>\n",
       "<path fill=\"none\" stroke=\"black\" d=\"M47,-647.744C47,-639.204 47,-630.298 47,-622.248\"/>\n",
       "<polygon fill=\"black\" stroke=\"black\" points=\"47,-657.897 42.5001,-647.897 47,-652.897 47.0001,-647.897 47.0001,-647.897 47.0001,-647.897 47,-652.897 51.5001,-647.897 47,-657.897 47,-657.897\"/>\n",
       "</g>\n",
       "<!-- pooling5 -->\n",
       "<g id=\"node9\" class=\"node\"><title>pooling5</title>\n",
       "<polygon fill=\"#80b1d3\" stroke=\"black\" points=\"94,-810 -7.10543e-15,-810 -7.10543e-15,-752 94,-752 94,-810\"/>\n",
       "<text text-anchor=\"middle\" x=\"47\" y=\"-784.8\" font-family=\"Times,serif\" font-size=\"14.00\">Pooling</text>\n",
       "<text text-anchor=\"middle\" x=\"47\" y=\"-769.8\" font-family=\"Times,serif\" font-size=\"14.00\">max, 2x2/2x2</text>\n",
       "</g>\n",
       "<!-- pooling5&#45;&gt;activation7 -->\n",
       "<g id=\"edge8\" class=\"edge\"><title>pooling5&#45;&gt;activation7</title>\n",
       "<path fill=\"none\" stroke=\"black\" d=\"M47,-741.744C47,-733.204 47,-724.298 47,-716.248\"/>\n",
       "<polygon fill=\"black\" stroke=\"black\" points=\"47,-751.897 42.5001,-741.897 47,-746.897 47.0001,-741.897 47.0001,-741.897 47.0001,-741.897 47,-746.897 51.5001,-741.897 47,-751.897 47,-751.897\"/>\n",
       "</g>\n",
       "<!-- flatten2 -->\n",
       "<g id=\"node10\" class=\"node\"><title>flatten2</title>\n",
       "<polygon fill=\"#fdb462\" stroke=\"black\" points=\"94,-904 -7.10543e-15,-904 -7.10543e-15,-846 94,-846 94,-904\"/>\n",
       "<text text-anchor=\"middle\" x=\"47\" y=\"-871.3\" font-family=\"Times,serif\" font-size=\"14.00\">flatten2</text>\n",
       "</g>\n",
       "<!-- flatten2&#45;&gt;pooling5 -->\n",
       "<g id=\"edge9\" class=\"edge\"><title>flatten2&#45;&gt;pooling5</title>\n",
       "<path fill=\"none\" stroke=\"black\" d=\"M47,-835.744C47,-827.204 47,-818.298 47,-810.248\"/>\n",
       "<polygon fill=\"black\" stroke=\"black\" points=\"47,-845.897 42.5001,-835.897 47,-840.897 47.0001,-835.897 47.0001,-835.897 47.0001,-835.897 47,-840.897 51.5001,-835.897 47,-845.897 47,-845.897\"/>\n",
       "</g>\n",
       "<!-- fullyconnected4 -->\n",
       "<g id=\"node11\" class=\"node\"><title>fullyconnected4</title>\n",
       "<polygon fill=\"#fb8072\" stroke=\"black\" points=\"94,-998 -7.10543e-15,-998 -7.10543e-15,-940 94,-940 94,-998\"/>\n",
       "<text text-anchor=\"middle\" x=\"47\" y=\"-972.8\" font-family=\"Times,serif\" font-size=\"14.00\">FullyConnected</text>\n",
       "<text text-anchor=\"middle\" x=\"47\" y=\"-957.8\" font-family=\"Times,serif\" font-size=\"14.00\">512</text>\n",
       "</g>\n",
       "<!-- fullyconnected4&#45;&gt;flatten2 -->\n",
       "<g id=\"edge10\" class=\"edge\"><title>fullyconnected4&#45;&gt;flatten2</title>\n",
       "<path fill=\"none\" stroke=\"black\" d=\"M47,-929.744C47,-921.204 47,-912.298 47,-904.248\"/>\n",
       "<polygon fill=\"black\" stroke=\"black\" points=\"47,-939.897 42.5001,-929.897 47,-934.897 47.0001,-929.897 47.0001,-929.897 47.0001,-929.897 47,-934.897 51.5001,-929.897 47,-939.897 47,-939.897\"/>\n",
       "</g>\n",
       "<!-- activation8 -->\n",
       "<g id=\"node12\" class=\"node\"><title>activation8</title>\n",
       "<polygon fill=\"#ffffb3\" stroke=\"black\" points=\"94,-1092 -7.10543e-15,-1092 -7.10543e-15,-1034 94,-1034 94,-1092\"/>\n",
       "<text text-anchor=\"middle\" x=\"47\" y=\"-1066.8\" font-family=\"Times,serif\" font-size=\"14.00\">Activation</text>\n",
       "<text text-anchor=\"middle\" x=\"47\" y=\"-1051.8\" font-family=\"Times,serif\" font-size=\"14.00\">relu</text>\n",
       "</g>\n",
       "<!-- activation8&#45;&gt;fullyconnected4 -->\n",
       "<g id=\"edge11\" class=\"edge\"><title>activation8&#45;&gt;fullyconnected4</title>\n",
       "<path fill=\"none\" stroke=\"black\" d=\"M47,-1023.74C47,-1015.2 47,-1006.3 47,-998.248\"/>\n",
       "<polygon fill=\"black\" stroke=\"black\" points=\"47,-1033.9 42.5001,-1023.9 47,-1028.9 47.0001,-1023.9 47.0001,-1023.9 47.0001,-1023.9 47,-1028.9 51.5001,-1023.9 47,-1033.9 47,-1033.9\"/>\n",
       "</g>\n",
       "<!-- dropout2 -->\n",
       "<g id=\"node13\" class=\"node\"><title>dropout2</title>\n",
       "<polygon fill=\"#fccde5\" stroke=\"black\" points=\"94,-1186 -7.10543e-15,-1186 -7.10543e-15,-1128 94,-1128 94,-1186\"/>\n",
       "<text text-anchor=\"middle\" x=\"47\" y=\"-1153.3\" font-family=\"Times,serif\" font-size=\"14.00\">dropout2</text>\n",
       "</g>\n",
       "<!-- dropout2&#45;&gt;activation8 -->\n",
       "<g id=\"edge12\" class=\"edge\"><title>dropout2&#45;&gt;activation8</title>\n",
       "<path fill=\"none\" stroke=\"black\" d=\"M47,-1117.74C47,-1109.2 47,-1100.3 47,-1092.25\"/>\n",
       "<polygon fill=\"black\" stroke=\"black\" points=\"47,-1127.9 42.5001,-1117.9 47,-1122.9 47.0001,-1117.9 47.0001,-1117.9 47.0001,-1117.9 47,-1122.9 51.5001,-1117.9 47,-1127.9 47,-1127.9\"/>\n",
       "</g>\n",
       "<!-- fullyconnected5 -->\n",
       "<g id=\"node14\" class=\"node\"><title>fullyconnected5</title>\n",
       "<polygon fill=\"#fb8072\" stroke=\"black\" points=\"94,-1280 -7.10543e-15,-1280 -7.10543e-15,-1222 94,-1222 94,-1280\"/>\n",
       "<text text-anchor=\"middle\" x=\"47\" y=\"-1254.8\" font-family=\"Times,serif\" font-size=\"14.00\">FullyConnected</text>\n",
       "<text text-anchor=\"middle\" x=\"47\" y=\"-1239.8\" font-family=\"Times,serif\" font-size=\"14.00\">26</text>\n",
       "</g>\n",
       "<!-- fullyconnected5&#45;&gt;dropout2 -->\n",
       "<g id=\"edge13\" class=\"edge\"><title>fullyconnected5&#45;&gt;dropout2</title>\n",
       "<path fill=\"none\" stroke=\"black\" d=\"M47,-1211.74C47,-1203.2 47,-1194.3 47,-1186.25\"/>\n",
       "<polygon fill=\"black\" stroke=\"black\" points=\"47,-1221.9 42.5001,-1211.9 47,-1216.9 47.0001,-1211.9 47.0001,-1211.9 47.0001,-1211.9 47,-1216.9 51.5001,-1211.9 47,-1221.9 47,-1221.9\"/>\n",
       "</g>\n",
       "<!-- softmax_label -->\n",
       "<g id=\"node15\" class=\"node\"><title>softmax_label</title>\n",
       "<ellipse fill=\"#8dd3c7\" stroke=\"black\" cx=\"159\" cy=\"-1251\" rx=\"47\" ry=\"29\"/>\n",
       "<text text-anchor=\"middle\" x=\"159\" y=\"-1247.3\" font-family=\"Times,serif\" font-size=\"14.00\">softmax_label</text>\n",
       "</g>\n",
       "<!-- softmax -->\n",
       "<g id=\"node16\" class=\"node\"><title>softmax</title>\n",
       "<polygon fill=\"#fccde5\" stroke=\"black\" points=\"150,-1374 56,-1374 56,-1316 150,-1316 150,-1374\"/>\n",
       "<text text-anchor=\"middle\" x=\"103\" y=\"-1341.3\" font-family=\"Times,serif\" font-size=\"14.00\">softmax</text>\n",
       "</g>\n",
       "<!-- softmax&#45;&gt;fullyconnected5 -->\n",
       "<g id=\"edge14\" class=\"edge\"><title>softmax&#45;&gt;fullyconnected5</title>\n",
       "<path fill=\"none\" stroke=\"black\" d=\"M80.5686,-1307.15C75.113,-1298.19 69.3635,-1288.74 64.1943,-1280.25\"/>\n",
       "<polygon fill=\"black\" stroke=\"black\" points=\"85.8939,-1315.9 76.8505,-1309.69 83.2941,-1311.63 80.6944,-1307.36 80.6944,-1307.36 80.6944,-1307.36 83.2941,-1311.63 84.5383,-1305.02 85.8939,-1315.9 85.8939,-1315.9\"/>\n",
       "</g>\n",
       "<!-- softmax&#45;&gt;softmax_label -->\n",
       "<g id=\"edge15\" class=\"edge\"><title>softmax&#45;&gt;softmax_label</title>\n",
       "<path fill=\"none\" stroke=\"black\" d=\"M125.377,-1307.24C131.257,-1297.58 137.481,-1287.35 142.955,-1278.36\"/>\n",
       "<polygon fill=\"black\" stroke=\"black\" points=\"120.106,-1315.9 121.462,-1305.02 122.706,-1311.63 125.306,-1307.36 125.306,-1307.36 125.306,-1307.36 122.706,-1311.63 129.15,-1309.69 120.106,-1315.9 120.106,-1315.9\"/>\n",
       "</g>\n",
       "</g>\n",
       "</svg>\n"
      ],
      "text/plain": [
       "<graphviz.dot.Digraph at 0x7f6a76b809d0>"
      ]
     },
     "execution_count": 52,
     "metadata": {},
     "output_type": "execute_result"
    }
   ],
   "source": [
    "data = mx.sym.var('data')\n",
    "\n",
    "conv1 = mx.sym.Convolution(data=data, kernel=(5,5), num_filter=20, name='conv1')\n",
    "bn1 = mx.sym.BatchNorm(conv1, fix_gamma=True)\n",
    "tanh1 = mx.sym.Activation(data=bn1, act_type='relu')\n",
    "pool1 = mx.sym.Pooling(data=tanh1, pool_type='max', kernel=(2,2), stride=(2,2))\n",
    "\n",
    "conv2 = mx.sym.Convolution(data=pool1, kernel=(5,5), num_filter=50, name='conv2')\n",
    "bn2 = mx.sym.BatchNorm(conv2, fix_gamma=True)\n",
    "tanh2 = mx.sym.Activation(data=bn2, act_type='relu')\n",
    "pool2 = mx.sym.Pooling(data=tanh2, pool_type='max', kernel=(2,2), stride=(2,2))\n",
    "\n",
    "flat = mx.sym.flatten(data=pool2)\n",
    "fc1 = mx.sym.FullyConnected(data=flat, num_hidden=512)\n",
    "tanh3 = mx.sym.Activation(data=fc1, act_type='relu')\n",
    "\n",
    "drop = mx.symbol.Dropout(tanh3, p=0.5)\n",
    "fc2 = mx.sym.FullyConnected(data=drop, num_hidden=num_class)\n",
    "\n",
    "convnet = mx.sym.SoftmaxOutput(data=fc2, name='softmax')\n",
    "\n",
    "mx.viz.plot_network(convnet)"
   ]
  },
  {
   "cell_type": "code",
   "execution_count": 53,
   "metadata": {
    "collapsed": true
   },
   "outputs": [],
   "source": [
    "model = mx.mod.Module(symbol=convnet, context=mx.gpu())"
   ]
  },
  {
   "cell_type": "code",
   "execution_count": 54,
   "metadata": {},
   "outputs": [],
   "source": [
    "model.bind(data_shapes=train_iter.provide_data, label_shapes=train_iter.provide_label)\n",
    "model.init_params(initializer=mx.init.Uniform(scale=.01))\n",
    "model.init_optimizer(optimizer='sgd', optimizer_params={'learning_rate':0.001})\n",
    "\n",
    "metric = mx.metric.Accuracy()"
   ]
  },
  {
   "cell_type": "code",
   "execution_count": 61,
   "metadata": {
    "scrolled": true
   },
   "outputs": [
    {
     "name": "stderr",
     "output_type": "stream",
     "text": [
      "INFO:root:Saved checkpoint to \"models/chkpt-0000.params\"\n"
     ]
    },
    {
     "name": "stdout",
     "output_type": "stream",
     "text": [
      "Epoch 0, Training ('accuracy', 0.9666666666666667), Time 3.36\n",
      "Epoch 1, Training ('accuracy', 0.9703703703703703), Time 1.36\n",
      "Epoch 2, Training ('accuracy', 0.9888888888888889), Time 1.39\n",
      "Epoch 3, Training ('accuracy', 0.9851851851851852), Time 1.40\n",
      "Epoch 4, Training ('accuracy', 0.9962962962962963), Time 1.40\n",
      "Epoch 5, Training ('accuracy', 0.9888888888888889), Time 1.40\n",
      "Epoch 6, Training ('accuracy', 0.9925925925925926), Time 1.40\n",
      "Epoch 7, Training ('accuracy', 0.9851851851851852), Time 1.40\n",
      "Epoch 8, Training ('accuracy', 0.9925925925925926), Time 1.40\n",
      "Epoch 9, Training ('accuracy', 0.9962962962962963), Time 1.39\n"
     ]
    }
   ],
   "source": [
    "chk_prefix='models/chkpt'\n",
    "for epoch in range(10):\n",
    "    train_iter.reset()\n",
    "    metric.reset()\n",
    "    \n",
    "    st = time.time()\n",
    "    for batch in train_iter:\n",
    "        model.forward(data_batch=batch, is_train=True)\n",
    "        model.update_metric(metric, batch.label)\n",
    "        model.backward()\n",
    "        model.update()\n",
    "    \n",
    "    if epoch % 50 == 0:\n",
    "#         model_path = '{}_{}'.format(chk_prefix, epoch)\n",
    "        model.save_checkpoint(chk_prefix, epoch)\n",
    "        \n",
    "    et = time.time()-st\n",
    "    print('Epoch %d, Training %s, Time %.2f' % (epoch, metric.get(), et))"
   ]
  },
  {
   "cell_type": "code",
   "execution_count": 62,
   "metadata": {},
   "outputs": [
    {
     "data": {
      "text/plain": [
       "[('accuracy', 0.36666666666666664)]"
      ]
     },
     "execution_count": 62,
     "metadata": {},
     "output_type": "execute_result"
    }
   ],
   "source": [
    "model.score(eval_iter, metric)"
   ]
  },
  {
   "cell_type": "code",
   "execution_count": null,
   "metadata": {
    "collapsed": true
   },
   "outputs": [],
   "source": [
    "# ls data1"
   ]
  },
  {
   "cell_type": "code",
   "execution_count": null,
   "metadata": {
    "collapsed": true
   },
   "outputs": [],
   "source": [
    "# # I took a picture of my hand\n",
    "# pred_im = cv2.imread('data1/test-crop.png', 0)\n",
    "# plt.imshow(pred_im)"
   ]
  },
  {
   "cell_type": "code",
   "execution_count": null,
   "metadata": {
    "collapsed": true
   },
   "outputs": [],
   "source": [
    "# pred_im.shape"
   ]
  },
  {
   "cell_type": "code",
   "execution_count": null,
   "metadata": {
    "collapsed": true
   },
   "outputs": [],
   "source": [
    "# pred_res = cv2.resize(pred_im,(200, 200), interpolation = cv2.INTER_CUBIC)\n",
    "# plt.imshow(pred_res)"
   ]
  },
  {
   "cell_type": "code",
   "execution_count": null,
   "metadata": {
    "collapsed": true
   },
   "outputs": [],
   "source": [
    "# test_ = np.empty((1,1,200,200))\n",
    "# test_[0][0] = pred_res\n",
    "# lb = np.array([0])"
   ]
  },
  {
   "cell_type": "code",
   "execution_count": null,
   "metadata": {
    "collapsed": true
   },
   "outputs": [],
   "source": [
    "# test_.shape#, lb.shape"
   ]
  },
  {
   "cell_type": "code",
   "execution_count": null,
   "metadata": {
    "collapsed": true
   },
   "outputs": [],
   "source": [
    "# eval_iter = mx.io.NDArrayIter(test_, lb, batch_size=1)"
   ]
  },
  {
   "cell_type": "code",
   "execution_count": null,
   "metadata": {
    "collapsed": true
   },
   "outputs": [],
   "source": [
    "# d = Batch([mx.nd.array(pred_res)])\n",
    "# # d, pred_res.shape\n",
    "# model.forward(data_batch=d)"
   ]
  },
  {
   "cell_type": "code",
   "execution_count": null,
   "metadata": {
    "collapsed": true
   },
   "outputs": [],
   "source": [
    "# def get_image(url, show=False):\n",
    "#     # download and show the image\n",
    "# #     fname = mx.test_utils.download(url)\n",
    "# #     img = cv2.cvtColor(cv2.imread(fname), cv2.COLOR_BGR2RGB)\n",
    "#     img = cv2.imread(url, 0)\n",
    "#     if img is None:\n",
    "#          return None\n",
    "#     if show:\n",
    "#          plt.imshow(img)\n",
    "#          plt.axis('off')\n",
    "\n",
    "#     img = cv2.resize(img, (200, 200), interpolation = cv2.INTER_CUBIC)\n",
    "# #     img = np.swapaxes(img, 0, 2)\n",
    "# #     img = np.swapaxes(img, 1, 2)\n",
    "#     img = img[np.newaxis, np.newaxis, :]\n",
    "#     return img"
   ]
  },
  {
   "cell_type": "code",
   "execution_count": null,
   "metadata": {
    "collapsed": true
   },
   "outputs": [],
   "source": [
    "# from collections import namedtuple\n",
    "# Batch = namedtuple('Batch', ['data'])\n",
    "# def predict(url):\n",
    "#     img = get_image(url, show=True)\n",
    "#     print img.shape\n",
    "#     print Batch([mx.nd.array(img)])\n",
    "#     # compute the predict probabilities\n",
    "# #     model.forward(Batch([mx.nd.array(img)]), is_train=False)\n",
    "# #     prob = mod.get_outputs()[0].asnumpy()\n",
    "# #     # print the top-5\n",
    "# #     prob = np.squeeze(prob)\n",
    "# #     a = np.argsort(prob)[::-1]\n",
    "# #     for i in a[0:5]:\n",
    "# #         print('probability=%f, class=%s' %(prob[i], labels[i]))"
   ]
  },
  {
   "cell_type": "code",
   "execution_count": null,
   "metadata": {
    "collapsed": true,
    "scrolled": false
   },
   "outputs": [],
   "source": [
    "# # test picture with label 0\n",
    "# # pred = model.predict(eval_iter)#.asnumpy()\n",
    "# predict('data1/test-crop.png')"
   ]
  },
  {
   "cell_type": "code",
   "execution_count": null,
   "metadata": {
    "collapsed": true
   },
   "outputs": [],
   "source": [
    "# pred.argmax() # correct!"
   ]
  },
  {
   "cell_type": "code",
   "execution_count": null,
   "metadata": {
    "collapsed": true
   },
   "outputs": [],
   "source": []
  },
  {
   "cell_type": "code",
   "execution_count": null,
   "metadata": {
    "collapsed": true
   },
   "outputs": [],
   "source": [
    "#    # save a model to mymodel-symbol.json and mymodel-0100.params\n",
    "#     prefix = 'mymodel'\n",
    "#     iteration = 100\n",
    "#     model.save(prefix, iteration)\n",
    "\n",
    "#     # load model back\n",
    "#     model_loaded = mx.model.FeedForward.load(prefix, iteration)"
   ]
  }
 ],
 "metadata": {
  "kernelspec": {
   "display_name": "Python 2",
   "language": "python",
   "name": "python2"
  },
  "language_info": {
   "codemirror_mode": {
    "name": "ipython",
    "version": 2
   },
   "file_extension": ".py",
   "mimetype": "text/x-python",
   "name": "python",
   "nbconvert_exporter": "python",
   "pygments_lexer": "ipython2",
   "version": "2.7.12"
  }
 },
 "nbformat": 4,
 "nbformat_minor": 2
}
